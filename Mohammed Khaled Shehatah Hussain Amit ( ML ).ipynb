{
 "cells": [
  {
   "cell_type": "code",
   "execution_count": 1,
   "id": "0ce74ff4",
   "metadata": {
    "papermill": {
     "duration": 3.823103,
     "end_time": "2025-09-02T10:29:51.335184",
     "exception": false,
     "start_time": "2025-09-02T10:29:47.512081",
     "status": "completed"
    },
    "tags": []
   },
   "outputs": [],
   "source": [
    "import pandas as pd \n",
    "import numpy as np \n",
    "import seaborn as sns\n",
    "import matplotlib.pyplot as plt\n",
    "from sklearn.model_selection import *\n",
    "from sklearn.linear_model import *\n",
    "from sklearn.metrics import *\n",
    "from sklearn.preprocessing import *\n",
    "import warnings\n",
    "warnings.filterwarnings(\"ignore\")\n",
    "pd.set_option(\"display.max_columns\" , None)"
   ]
  },
  {
   "cell_type": "code",
   "execution_count": 2,
   "id": "12e9a8ba",
   "metadata": {
    "papermill": {
     "duration": 0.154429,
     "end_time": "2025-09-02T10:29:51.495464",
     "exception": false,
     "start_time": "2025-09-02T10:29:51.341035",
     "status": "completed"
    },
    "tags": []
   },
   "outputs": [
    {
     "data": {
      "text/html": [
       "<div>\n",
       "<style scoped>\n",
       "    .dataframe tbody tr th:only-of-type {\n",
       "        vertical-align: middle;\n",
       "    }\n",
       "\n",
       "    .dataframe tbody tr th {\n",
       "        vertical-align: top;\n",
       "    }\n",
       "\n",
       "    .dataframe thead th {\n",
       "        text-align: right;\n",
       "    }\n",
       "</style>\n",
       "<table border=\"1\" class=\"dataframe\">\n",
       "  <thead>\n",
       "    <tr style=\"text-align: right;\">\n",
       "      <th></th>\n",
       "      <th>Unnamed: 0</th>\n",
       "      <th>Gender</th>\n",
       "      <th>EthnicGroup</th>\n",
       "      <th>ParentEduc</th>\n",
       "      <th>LunchType</th>\n",
       "      <th>TestPrep</th>\n",
       "      <th>ParentMaritalStatus</th>\n",
       "      <th>PracticeSport</th>\n",
       "      <th>IsFirstChild</th>\n",
       "      <th>NrSiblings</th>\n",
       "      <th>TransportMeans</th>\n",
       "      <th>WklyStudyHours</th>\n",
       "      <th>MathScore</th>\n",
       "      <th>ReadingScore</th>\n",
       "      <th>WritingScore</th>\n",
       "    </tr>\n",
       "  </thead>\n",
       "  <tbody>\n",
       "    <tr>\n",
       "      <th>0</th>\n",
       "      <td>0</td>\n",
       "      <td>female</td>\n",
       "      <td>NaN</td>\n",
       "      <td>bachelor's degree</td>\n",
       "      <td>standard</td>\n",
       "      <td>none</td>\n",
       "      <td>married</td>\n",
       "      <td>regularly</td>\n",
       "      <td>yes</td>\n",
       "      <td>3.0</td>\n",
       "      <td>school_bus</td>\n",
       "      <td>&lt; 5</td>\n",
       "      <td>71</td>\n",
       "      <td>71</td>\n",
       "      <td>74</td>\n",
       "    </tr>\n",
       "    <tr>\n",
       "      <th>1</th>\n",
       "      <td>1</td>\n",
       "      <td>female</td>\n",
       "      <td>group C</td>\n",
       "      <td>some college</td>\n",
       "      <td>standard</td>\n",
       "      <td>NaN</td>\n",
       "      <td>married</td>\n",
       "      <td>sometimes</td>\n",
       "      <td>yes</td>\n",
       "      <td>0.0</td>\n",
       "      <td>NaN</td>\n",
       "      <td>5 - 10</td>\n",
       "      <td>69</td>\n",
       "      <td>90</td>\n",
       "      <td>88</td>\n",
       "    </tr>\n",
       "    <tr>\n",
       "      <th>2</th>\n",
       "      <td>2</td>\n",
       "      <td>female</td>\n",
       "      <td>group B</td>\n",
       "      <td>master's degree</td>\n",
       "      <td>standard</td>\n",
       "      <td>none</td>\n",
       "      <td>single</td>\n",
       "      <td>sometimes</td>\n",
       "      <td>yes</td>\n",
       "      <td>4.0</td>\n",
       "      <td>school_bus</td>\n",
       "      <td>&lt; 5</td>\n",
       "      <td>87</td>\n",
       "      <td>93</td>\n",
       "      <td>91</td>\n",
       "    </tr>\n",
       "    <tr>\n",
       "      <th>3</th>\n",
       "      <td>3</td>\n",
       "      <td>male</td>\n",
       "      <td>group A</td>\n",
       "      <td>associate's degree</td>\n",
       "      <td>free/reduced</td>\n",
       "      <td>none</td>\n",
       "      <td>married</td>\n",
       "      <td>never</td>\n",
       "      <td>no</td>\n",
       "      <td>1.0</td>\n",
       "      <td>NaN</td>\n",
       "      <td>5 - 10</td>\n",
       "      <td>45</td>\n",
       "      <td>56</td>\n",
       "      <td>42</td>\n",
       "    </tr>\n",
       "    <tr>\n",
       "      <th>4</th>\n",
       "      <td>4</td>\n",
       "      <td>male</td>\n",
       "      <td>group C</td>\n",
       "      <td>some college</td>\n",
       "      <td>standard</td>\n",
       "      <td>none</td>\n",
       "      <td>married</td>\n",
       "      <td>sometimes</td>\n",
       "      <td>yes</td>\n",
       "      <td>0.0</td>\n",
       "      <td>school_bus</td>\n",
       "      <td>5 - 10</td>\n",
       "      <td>76</td>\n",
       "      <td>78</td>\n",
       "      <td>75</td>\n",
       "    </tr>\n",
       "    <tr>\n",
       "      <th>5</th>\n",
       "      <td>5</td>\n",
       "      <td>female</td>\n",
       "      <td>group B</td>\n",
       "      <td>associate's degree</td>\n",
       "      <td>standard</td>\n",
       "      <td>none</td>\n",
       "      <td>married</td>\n",
       "      <td>regularly</td>\n",
       "      <td>yes</td>\n",
       "      <td>1.0</td>\n",
       "      <td>school_bus</td>\n",
       "      <td>5 - 10</td>\n",
       "      <td>73</td>\n",
       "      <td>84</td>\n",
       "      <td>79</td>\n",
       "    </tr>\n",
       "    <tr>\n",
       "      <th>6</th>\n",
       "      <td>6</td>\n",
       "      <td>female</td>\n",
       "      <td>group B</td>\n",
       "      <td>some college</td>\n",
       "      <td>standard</td>\n",
       "      <td>completed</td>\n",
       "      <td>widowed</td>\n",
       "      <td>never</td>\n",
       "      <td>no</td>\n",
       "      <td>1.0</td>\n",
       "      <td>private</td>\n",
       "      <td>5 - 10</td>\n",
       "      <td>85</td>\n",
       "      <td>93</td>\n",
       "      <td>89</td>\n",
       "    </tr>\n",
       "    <tr>\n",
       "      <th>7</th>\n",
       "      <td>7</td>\n",
       "      <td>male</td>\n",
       "      <td>group B</td>\n",
       "      <td>some college</td>\n",
       "      <td>free/reduced</td>\n",
       "      <td>none</td>\n",
       "      <td>married</td>\n",
       "      <td>sometimes</td>\n",
       "      <td>yes</td>\n",
       "      <td>1.0</td>\n",
       "      <td>private</td>\n",
       "      <td>&gt; 10</td>\n",
       "      <td>41</td>\n",
       "      <td>43</td>\n",
       "      <td>39</td>\n",
       "    </tr>\n",
       "    <tr>\n",
       "      <th>8</th>\n",
       "      <td>8</td>\n",
       "      <td>male</td>\n",
       "      <td>group D</td>\n",
       "      <td>high school</td>\n",
       "      <td>free/reduced</td>\n",
       "      <td>completed</td>\n",
       "      <td>single</td>\n",
       "      <td>sometimes</td>\n",
       "      <td>no</td>\n",
       "      <td>3.0</td>\n",
       "      <td>private</td>\n",
       "      <td>&gt; 10</td>\n",
       "      <td>65</td>\n",
       "      <td>64</td>\n",
       "      <td>68</td>\n",
       "    </tr>\n",
       "    <tr>\n",
       "      <th>9</th>\n",
       "      <td>9</td>\n",
       "      <td>female</td>\n",
       "      <td>group B</td>\n",
       "      <td>high school</td>\n",
       "      <td>free/reduced</td>\n",
       "      <td>none</td>\n",
       "      <td>married</td>\n",
       "      <td>regularly</td>\n",
       "      <td>yes</td>\n",
       "      <td>NaN</td>\n",
       "      <td>private</td>\n",
       "      <td>&lt; 5</td>\n",
       "      <td>37</td>\n",
       "      <td>59</td>\n",
       "      <td>50</td>\n",
       "    </tr>\n",
       "  </tbody>\n",
       "</table>\n",
       "</div>"
      ],
      "text/plain": [
       "   Unnamed: 0  Gender EthnicGroup          ParentEduc     LunchType  \\\n",
       "0           0  female         NaN   bachelor's degree      standard   \n",
       "1           1  female     group C        some college      standard   \n",
       "2           2  female     group B     master's degree      standard   \n",
       "3           3    male     group A  associate's degree  free/reduced   \n",
       "4           4    male     group C        some college      standard   \n",
       "5           5  female     group B  associate's degree      standard   \n",
       "6           6  female     group B        some college      standard   \n",
       "7           7    male     group B        some college  free/reduced   \n",
       "8           8    male     group D         high school  free/reduced   \n",
       "9           9  female     group B         high school  free/reduced   \n",
       "\n",
       "    TestPrep ParentMaritalStatus PracticeSport IsFirstChild  NrSiblings  \\\n",
       "0       none             married     regularly          yes         3.0   \n",
       "1        NaN             married     sometimes          yes         0.0   \n",
       "2       none              single     sometimes          yes         4.0   \n",
       "3       none             married         never           no         1.0   \n",
       "4       none             married     sometimes          yes         0.0   \n",
       "5       none             married     regularly          yes         1.0   \n",
       "6  completed             widowed         never           no         1.0   \n",
       "7       none             married     sometimes          yes         1.0   \n",
       "8  completed              single     sometimes           no         3.0   \n",
       "9       none             married     regularly          yes         NaN   \n",
       "\n",
       "  TransportMeans WklyStudyHours  MathScore  ReadingScore  WritingScore  \n",
       "0     school_bus            < 5         71            71            74  \n",
       "1            NaN         5 - 10         69            90            88  \n",
       "2     school_bus            < 5         87            93            91  \n",
       "3            NaN         5 - 10         45            56            42  \n",
       "4     school_bus         5 - 10         76            78            75  \n",
       "5     school_bus         5 - 10         73            84            79  \n",
       "6        private         5 - 10         85            93            89  \n",
       "7        private           > 10         41            43            39  \n",
       "8        private           > 10         65            64            68  \n",
       "9        private            < 5         37            59            50  "
      ]
     },
     "execution_count": 2,
     "metadata": {},
     "output_type": "execute_result"
    }
   ],
   "source": [
    "Data_Frame = pd.read_csv(\"Expanded_data_with_more_features.csv\")\n",
    "Data_Frame.head(10)"
   ]
  },
  {
   "cell_type": "code",
   "execution_count": 3,
   "id": "06d2bb2e",
   "metadata": {
    "papermill": {
     "duration": 0.032523,
     "end_time": "2025-09-02T10:29:51.533851",
     "exception": false,
     "start_time": "2025-09-02T10:29:51.501328",
     "status": "completed"
    },
    "tags": []
   },
   "outputs": [
    {
     "data": {
      "text/html": [
       "<div>\n",
       "<style scoped>\n",
       "    .dataframe tbody tr th:only-of-type {\n",
       "        vertical-align: middle;\n",
       "    }\n",
       "\n",
       "    .dataframe tbody tr th {\n",
       "        vertical-align: top;\n",
       "    }\n",
       "\n",
       "    .dataframe thead th {\n",
       "        text-align: right;\n",
       "    }\n",
       "</style>\n",
       "<table border=\"1\" class=\"dataframe\">\n",
       "  <thead>\n",
       "    <tr style=\"text-align: right;\">\n",
       "      <th></th>\n",
       "      <th>Gender</th>\n",
       "      <th>EthnicGroup</th>\n",
       "      <th>ParentEduc</th>\n",
       "      <th>LunchType</th>\n",
       "      <th>TestPrep</th>\n",
       "      <th>ParentMaritalStatus</th>\n",
       "      <th>PracticeSport</th>\n",
       "      <th>NrSiblings</th>\n",
       "      <th>WklyStudyHours</th>\n",
       "      <th>MathScore</th>\n",
       "      <th>ReadingScore</th>\n",
       "      <th>WritingScore</th>\n",
       "    </tr>\n",
       "  </thead>\n",
       "  <tbody>\n",
       "    <tr>\n",
       "      <th>3772</th>\n",
       "      <td>female</td>\n",
       "      <td>group E</td>\n",
       "      <td>some high school</td>\n",
       "      <td>free/reduced</td>\n",
       "      <td>completed</td>\n",
       "      <td>divorced</td>\n",
       "      <td>sometimes</td>\n",
       "      <td>2.0</td>\n",
       "      <td>5 - 10</td>\n",
       "      <td>56</td>\n",
       "      <td>70</td>\n",
       "      <td>65</td>\n",
       "    </tr>\n",
       "    <tr>\n",
       "      <th>7886</th>\n",
       "      <td>female</td>\n",
       "      <td>group D</td>\n",
       "      <td>some college</td>\n",
       "      <td>free/reduced</td>\n",
       "      <td>none</td>\n",
       "      <td>NaN</td>\n",
       "      <td>never</td>\n",
       "      <td>1.0</td>\n",
       "      <td>&lt; 5</td>\n",
       "      <td>69</td>\n",
       "      <td>80</td>\n",
       "      <td>81</td>\n",
       "    </tr>\n",
       "    <tr>\n",
       "      <th>29462</th>\n",
       "      <td>female</td>\n",
       "      <td>group B</td>\n",
       "      <td>associate's degree</td>\n",
       "      <td>standard</td>\n",
       "      <td>none</td>\n",
       "      <td>single</td>\n",
       "      <td>regularly</td>\n",
       "      <td>1.0</td>\n",
       "      <td>&lt; 5</td>\n",
       "      <td>45</td>\n",
       "      <td>48</td>\n",
       "      <td>53</td>\n",
       "    </tr>\n",
       "    <tr>\n",
       "      <th>14813</th>\n",
       "      <td>male</td>\n",
       "      <td>group B</td>\n",
       "      <td>some college</td>\n",
       "      <td>standard</td>\n",
       "      <td>none</td>\n",
       "      <td>married</td>\n",
       "      <td>regularly</td>\n",
       "      <td>1.0</td>\n",
       "      <td>&gt; 10</td>\n",
       "      <td>75</td>\n",
       "      <td>64</td>\n",
       "      <td>64</td>\n",
       "    </tr>\n",
       "    <tr>\n",
       "      <th>28574</th>\n",
       "      <td>male</td>\n",
       "      <td>group C</td>\n",
       "      <td>high school</td>\n",
       "      <td>free/reduced</td>\n",
       "      <td>completed</td>\n",
       "      <td>divorced</td>\n",
       "      <td>sometimes</td>\n",
       "      <td>NaN</td>\n",
       "      <td>5 - 10</td>\n",
       "      <td>70</td>\n",
       "      <td>61</td>\n",
       "      <td>61</td>\n",
       "    </tr>\n",
       "    <tr>\n",
       "      <th>24258</th>\n",
       "      <td>female</td>\n",
       "      <td>group E</td>\n",
       "      <td>master's degree</td>\n",
       "      <td>standard</td>\n",
       "      <td>none</td>\n",
       "      <td>single</td>\n",
       "      <td>regularly</td>\n",
       "      <td>3.0</td>\n",
       "      <td>&lt; 5</td>\n",
       "      <td>90</td>\n",
       "      <td>89</td>\n",
       "      <td>92</td>\n",
       "    </tr>\n",
       "    <tr>\n",
       "      <th>8021</th>\n",
       "      <td>male</td>\n",
       "      <td>group D</td>\n",
       "      <td>high school</td>\n",
       "      <td>standard</td>\n",
       "      <td>NaN</td>\n",
       "      <td>divorced</td>\n",
       "      <td>sometimes</td>\n",
       "      <td>2.0</td>\n",
       "      <td>5 - 10</td>\n",
       "      <td>78</td>\n",
       "      <td>68</td>\n",
       "      <td>67</td>\n",
       "    </tr>\n",
       "    <tr>\n",
       "      <th>7254</th>\n",
       "      <td>female</td>\n",
       "      <td>group C</td>\n",
       "      <td>high school</td>\n",
       "      <td>standard</td>\n",
       "      <td>completed</td>\n",
       "      <td>married</td>\n",
       "      <td>sometimes</td>\n",
       "      <td>0.0</td>\n",
       "      <td>5 - 10</td>\n",
       "      <td>68</td>\n",
       "      <td>65</td>\n",
       "      <td>69</td>\n",
       "    </tr>\n",
       "    <tr>\n",
       "      <th>16359</th>\n",
       "      <td>male</td>\n",
       "      <td>group A</td>\n",
       "      <td>NaN</td>\n",
       "      <td>standard</td>\n",
       "      <td>none</td>\n",
       "      <td>married</td>\n",
       "      <td>regularly</td>\n",
       "      <td>0.0</td>\n",
       "      <td>5 - 10</td>\n",
       "      <td>58</td>\n",
       "      <td>48</td>\n",
       "      <td>55</td>\n",
       "    </tr>\n",
       "    <tr>\n",
       "      <th>15971</th>\n",
       "      <td>male</td>\n",
       "      <td>group C</td>\n",
       "      <td>some college</td>\n",
       "      <td>free/reduced</td>\n",
       "      <td>completed</td>\n",
       "      <td>married</td>\n",
       "      <td>sometimes</td>\n",
       "      <td>NaN</td>\n",
       "      <td>&lt; 5</td>\n",
       "      <td>60</td>\n",
       "      <td>60</td>\n",
       "      <td>59</td>\n",
       "    </tr>\n",
       "  </tbody>\n",
       "</table>\n",
       "</div>"
      ],
      "text/plain": [
       "       Gender EthnicGroup          ParentEduc     LunchType   TestPrep  \\\n",
       "3772   female     group E    some high school  free/reduced  completed   \n",
       "7886   female     group D        some college  free/reduced       none   \n",
       "29462  female     group B  associate's degree      standard       none   \n",
       "14813    male     group B        some college      standard       none   \n",
       "28574    male     group C         high school  free/reduced  completed   \n",
       "24258  female     group E     master's degree      standard       none   \n",
       "8021     male     group D         high school      standard        NaN   \n",
       "7254   female     group C         high school      standard  completed   \n",
       "16359    male     group A                 NaN      standard       none   \n",
       "15971    male     group C        some college  free/reduced  completed   \n",
       "\n",
       "      ParentMaritalStatus PracticeSport  NrSiblings WklyStudyHours  MathScore  \\\n",
       "3772             divorced     sometimes         2.0         5 - 10         56   \n",
       "7886                  NaN         never         1.0            < 5         69   \n",
       "29462              single     regularly         1.0            < 5         45   \n",
       "14813             married     regularly         1.0           > 10         75   \n",
       "28574            divorced     sometimes         NaN         5 - 10         70   \n",
       "24258              single     regularly         3.0            < 5         90   \n",
       "8021             divorced     sometimes         2.0         5 - 10         78   \n",
       "7254              married     sometimes         0.0         5 - 10         68   \n",
       "16359             married     regularly         0.0         5 - 10         58   \n",
       "15971             married     sometimes         NaN            < 5         60   \n",
       "\n",
       "       ReadingScore  WritingScore  \n",
       "3772             70            65  \n",
       "7886             80            81  \n",
       "29462            48            53  \n",
       "14813            64            64  \n",
       "28574            61            61  \n",
       "24258            89            92  \n",
       "8021             68            67  \n",
       "7254             65            69  \n",
       "16359            48            55  \n",
       "15971            60            59  "
      ]
     },
     "execution_count": 3,
     "metadata": {},
     "output_type": "execute_result"
    }
   ],
   "source": [
    "Data_Frame = Data_Frame.drop([\"Unnamed: 0\" , \"IsFirstChild\" , \"TransportMeans\"] , axis=1)\n",
    "Data_Frame.sample(10)"
   ]
  },
  {
   "cell_type": "code",
   "execution_count": 4,
   "id": "2e4ce00c",
   "metadata": {
    "papermill": {
     "duration": 0.041232,
     "end_time": "2025-09-02T10:29:51.581289",
     "exception": false,
     "start_time": "2025-09-02T10:29:51.540057",
     "status": "completed"
    },
    "tags": []
   },
   "outputs": [
    {
     "name": "stdout",
     "output_type": "stream",
     "text": [
      "<class 'pandas.core.frame.DataFrame'>\n",
      "RangeIndex: 30641 entries, 0 to 30640\n",
      "Data columns (total 12 columns):\n",
      " #   Column               Non-Null Count  Dtype  \n",
      "---  ------               --------------  -----  \n",
      " 0   Gender               30641 non-null  object \n",
      " 1   EthnicGroup          28801 non-null  object \n",
      " 2   ParentEduc           28796 non-null  object \n",
      " 3   LunchType            30641 non-null  object \n",
      " 4   TestPrep             28811 non-null  object \n",
      " 5   ParentMaritalStatus  29451 non-null  object \n",
      " 6   PracticeSport        30010 non-null  object \n",
      " 7   NrSiblings           29069 non-null  float64\n",
      " 8   WklyStudyHours       29686 non-null  object \n",
      " 9   MathScore            30641 non-null  int64  \n",
      " 10  ReadingScore         30641 non-null  int64  \n",
      " 11  WritingScore         30641 non-null  int64  \n",
      "dtypes: float64(1), int64(3), object(8)\n",
      "memory usage: 2.8+ MB\n"
     ]
    }
   ],
   "source": [
    "Data_Frame.info()"
   ]
  },
  {
   "cell_type": "code",
   "execution_count": 5,
   "id": "1f0d0898",
   "metadata": {
    "papermill": {
     "duration": 0.027308,
     "end_time": "2025-09-02T10:29:51.615160",
     "exception": false,
     "start_time": "2025-09-02T10:29:51.587852",
     "status": "completed"
    },
    "tags": []
   },
   "outputs": [
    {
     "data": {
      "text/plain": [
       "Gender                    0\n",
       "EthnicGroup            1840\n",
       "ParentEduc             1845\n",
       "LunchType                 0\n",
       "TestPrep               1830\n",
       "ParentMaritalStatus    1190\n",
       "PracticeSport           631\n",
       "NrSiblings             1572\n",
       "WklyStudyHours          955\n",
       "MathScore                 0\n",
       "ReadingScore              0\n",
       "WritingScore              0\n",
       "dtype: int64"
      ]
     },
     "execution_count": 5,
     "metadata": {},
     "output_type": "execute_result"
    }
   ],
   "source": [
    "Data_Frame.isnull().sum()"
   ]
  },
  {
   "cell_type": "code",
   "execution_count": 6,
   "id": "1d1f8622",
   "metadata": {
    "papermill": {
     "duration": 0.057316,
     "end_time": "2025-09-02T10:29:51.678567",
     "exception": false,
     "start_time": "2025-09-02T10:29:51.621251",
     "status": "completed"
    },
    "tags": []
   },
   "outputs": [
    {
     "data": {
      "text/plain": [
       "Gender                 0\n",
       "EthnicGroup            0\n",
       "ParentEduc             0\n",
       "LunchType              0\n",
       "TestPrep               0\n",
       "ParentMaritalStatus    0\n",
       "PracticeSport          0\n",
       "NrSiblings             0\n",
       "WklyStudyHours         0\n",
       "MathScore              0\n",
       "ReadingScore           0\n",
       "WritingScore           0\n",
       "dtype: int64"
      ]
     },
     "execution_count": 6,
     "metadata": {},
     "output_type": "execute_result"
    }
   ],
   "source": [
    "Data_Frame[\"EthnicGroup\"].fillna(Data_Frame[\"EthnicGroup\"].mode()[0],inplace=True)\n",
    "Data_Frame[\"ParentEduc\"].fillna(Data_Frame[\"ParentEduc\"].mode()[0],inplace=True)\n",
    "Data_Frame[\"TestPrep\"].fillna(Data_Frame[\"TestPrep\"].mode()[0],inplace=True)\n",
    "Data_Frame[\"ParentMaritalStatus\"].fillna(Data_Frame[\"ParentMaritalStatus\"].mode()[0],inplace=True)\n",
    "Data_Frame[\"PracticeSport\"].fillna(Data_Frame[\"PracticeSport\"].mode()[0],inplace=True)\n",
    "Data_Frame[\"WklyStudyHours\"].fillna(Data_Frame[\"WklyStudyHours\"].mode()[0],inplace=True)\n",
    "Data_Frame[\"NrSiblings\"].fillna(Data_Frame[\"NrSiblings\"].median(),inplace=True)\n",
    "Data_Frame.isnull().sum()"
   ]
  },
  {
   "cell_type": "code",
   "execution_count": 7,
   "id": "47d1ba47",
   "metadata": {
    "papermill": {
     "duration": 0.029254,
     "end_time": "2025-09-02T10:29:51.714482",
     "exception": false,
     "start_time": "2025-09-02T10:29:51.685228",
     "status": "completed"
    },
    "tags": []
   },
   "outputs": [
    {
     "name": "stdout",
     "output_type": "stream",
     "text": [
      "<class 'pandas.core.frame.DataFrame'>\n",
      "RangeIndex: 30641 entries, 0 to 30640\n",
      "Data columns (total 12 columns):\n",
      " #   Column               Non-Null Count  Dtype  \n",
      "---  ------               --------------  -----  \n",
      " 0   Gender               30641 non-null  object \n",
      " 1   EthnicGroup          30641 non-null  object \n",
      " 2   ParentEduc           30641 non-null  object \n",
      " 3   LunchType            30641 non-null  object \n",
      " 4   TestPrep             30641 non-null  object \n",
      " 5   ParentMaritalStatus  30641 non-null  object \n",
      " 6   PracticeSport        30641 non-null  object \n",
      " 7   NrSiblings           30641 non-null  float64\n",
      " 8   WklyStudyHours       30641 non-null  object \n",
      " 9   MathScore            30641 non-null  int64  \n",
      " 10  ReadingScore         30641 non-null  int64  \n",
      " 11  WritingScore         30641 non-null  int64  \n",
      "dtypes: float64(1), int64(3), object(8)\n",
      "memory usage: 2.8+ MB\n"
     ]
    }
   ],
   "source": [
    "Data_Frame.info()"
   ]
  },
  {
   "cell_type": "code",
   "execution_count": 8,
   "id": "c1a45a3b",
   "metadata": {
    "papermill": {
     "duration": 0.036202,
     "end_time": "2025-09-02T10:29:51.756861",
     "exception": false,
     "start_time": "2025-09-02T10:29:51.720659",
     "status": "completed"
    },
    "tags": []
   },
   "outputs": [
    {
     "data": {
      "text/html": [
       "<div>\n",
       "<style scoped>\n",
       "    .dataframe tbody tr th:only-of-type {\n",
       "        vertical-align: middle;\n",
       "    }\n",
       "\n",
       "    .dataframe tbody tr th {\n",
       "        vertical-align: top;\n",
       "    }\n",
       "\n",
       "    .dataframe thead th {\n",
       "        text-align: right;\n",
       "    }\n",
       "</style>\n",
       "<table border=\"1\" class=\"dataframe\">\n",
       "  <thead>\n",
       "    <tr style=\"text-align: right;\">\n",
       "      <th></th>\n",
       "      <th>NrSiblings</th>\n",
       "      <th>MathScore</th>\n",
       "      <th>ReadingScore</th>\n",
       "      <th>WritingScore</th>\n",
       "    </tr>\n",
       "  </thead>\n",
       "  <tbody>\n",
       "    <tr>\n",
       "      <th>count</th>\n",
       "      <td>30641.000000</td>\n",
       "      <td>30641.000000</td>\n",
       "      <td>30641.000000</td>\n",
       "      <td>30641.000000</td>\n",
       "    </tr>\n",
       "    <tr>\n",
       "      <th>mean</th>\n",
       "      <td>2.138409</td>\n",
       "      <td>66.558402</td>\n",
       "      <td>69.377533</td>\n",
       "      <td>68.418622</td>\n",
       "    </tr>\n",
       "    <tr>\n",
       "      <th>std</th>\n",
       "      <td>1.420707</td>\n",
       "      <td>15.361616</td>\n",
       "      <td>14.758952</td>\n",
       "      <td>15.443525</td>\n",
       "    </tr>\n",
       "    <tr>\n",
       "      <th>min</th>\n",
       "      <td>0.000000</td>\n",
       "      <td>0.000000</td>\n",
       "      <td>10.000000</td>\n",
       "      <td>4.000000</td>\n",
       "    </tr>\n",
       "    <tr>\n",
       "      <th>25%</th>\n",
       "      <td>1.000000</td>\n",
       "      <td>56.000000</td>\n",
       "      <td>59.000000</td>\n",
       "      <td>58.000000</td>\n",
       "    </tr>\n",
       "    <tr>\n",
       "      <th>50%</th>\n",
       "      <td>2.000000</td>\n",
       "      <td>67.000000</td>\n",
       "      <td>70.000000</td>\n",
       "      <td>69.000000</td>\n",
       "    </tr>\n",
       "    <tr>\n",
       "      <th>75%</th>\n",
       "      <td>3.000000</td>\n",
       "      <td>78.000000</td>\n",
       "      <td>80.000000</td>\n",
       "      <td>79.000000</td>\n",
       "    </tr>\n",
       "    <tr>\n",
       "      <th>max</th>\n",
       "      <td>7.000000</td>\n",
       "      <td>100.000000</td>\n",
       "      <td>100.000000</td>\n",
       "      <td>100.000000</td>\n",
       "    </tr>\n",
       "  </tbody>\n",
       "</table>\n",
       "</div>"
      ],
      "text/plain": [
       "         NrSiblings     MathScore  ReadingScore  WritingScore\n",
       "count  30641.000000  30641.000000  30641.000000  30641.000000\n",
       "mean       2.138409     66.558402     69.377533     68.418622\n",
       "std        1.420707     15.361616     14.758952     15.443525\n",
       "min        0.000000      0.000000     10.000000      4.000000\n",
       "25%        1.000000     56.000000     59.000000     58.000000\n",
       "50%        2.000000     67.000000     70.000000     69.000000\n",
       "75%        3.000000     78.000000     80.000000     79.000000\n",
       "max        7.000000    100.000000    100.000000    100.000000"
      ]
     },
     "execution_count": 8,
     "metadata": {},
     "output_type": "execute_result"
    }
   ],
   "source": [
    "Data_Frame.describe()"
   ]
  },
  {
   "cell_type": "code",
   "execution_count": 9,
   "id": "5410d6eb",
   "metadata": {
    "papermill": {
     "duration": 0.238345,
     "end_time": "2025-09-02T10:29:52.001540",
     "exception": false,
     "start_time": "2025-09-02T10:29:51.763195",
     "status": "completed"
    },
    "tags": []
   },
   "outputs": [
    {
     "data": {
      "text/plain": [
       "{'whiskers': [<matplotlib.lines.Line2D at 0x24cca0b0f80>,\n",
       "  <matplotlib.lines.Line2D at 0x24cca0b1250>],\n",
       " 'caps': [<matplotlib.lines.Line2D at 0x24cca0b13d0>,\n",
       "  <matplotlib.lines.Line2D at 0x24cca0b16d0>],\n",
       " 'boxes': [<matplotlib.lines.Line2D at 0x24cc9d1fbf0>],\n",
       " 'medians': [<matplotlib.lines.Line2D at 0x24cca0b19a0>],\n",
       " 'fliers': [<matplotlib.lines.Line2D at 0x24cca0b1ca0>],\n",
       " 'means': []}"
      ]
     },
     "execution_count": 9,
     "metadata": {},
     "output_type": "execute_result"
    },
    {
     "data": {
      "image/png": "[encoded data removed]",
      "text/plain": [
       "<Figure size 640x480 with 1 Axes>"
      ]
     },
     "metadata": {},
     "output_type": "display_data"
    }
   ],
   "source": [
    "plt.boxplot(Data_Frame[\"NrSiblings\"])"
   ]
  },
  {
   "cell_type": "code",
   "execution_count": 10,
   "id": "c78d2c09",
   "metadata": {
    "papermill": {
     "duration": 0.131379,
     "end_time": "2025-09-02T10:29:52.139416",
     "exception": false,
     "start_time": "2025-09-02T10:29:52.008037",
     "status": "completed"
    },
    "tags": []
   },
   "outputs": [
    {
     "data": {
      "text/plain": [
       "{'whiskers': [<matplotlib.lines.Line2D at 0x24cca1331d0>,\n",
       "  <matplotlib.lines.Line2D at 0x24cca1334a0>],\n",
       " 'caps': [<matplotlib.lines.Line2D at 0x24cca1337a0>,\n",
       "  <matplotlib.lines.Line2D at 0x24cca133920>],\n",
       " 'boxes': [<matplotlib.lines.Line2D at 0x24cca0e3ce0>],\n",
       " 'medians': [<matplotlib.lines.Line2D at 0x24cca133bf0>],\n",
       " 'fliers': [<matplotlib.lines.Line2D at 0x24cca133e90>],\n",
       " 'means': []}"
      ]
     },
     "execution_count": 10,
     "metadata": {},
     "output_type": "execute_result"
    },
    {
     "data": {
      "image/png": "[encoded data removed]",
      "text/plain": [
       "<Figure size 640x480 with 1 Axes>"
      ]
     },
     "metadata": {},
     "output_type": "display_data"
    }
   ],
   "source": [
    "Q1_Value = Data_Frame[\"NrSiblings\"].quantile(0.25)\n",
    "Q3_Value = Data_Frame[\"NrSiblings\"].quantile(0.75)\n",
    "IQR_Value = Q3_Value - Q1_Value\n",
    "Lower_Bound = Q1_Value - (1.5 * IQR_Value)\n",
    "Upper_Bound = Q3_Value + (1.5 * IQR_Value)\n",
    "Out_Liers = Data_Frame[(Data_Frame[\"NrSiblings\"] < Lower_Bound) | (Data_Frame[\"NrSiblings\"] > Upper_Bound)]\n",
    "Data_Frame = Data_Frame[~((Data_Frame[\"NrSiblings\"] < Lower_Bound) | (Data_Frame[\"NrSiblings\"] > Upper_Bound))]\n",
    "plt.boxplot(Data_Frame[\"NrSiblings\"])"
   ]
  },
  {
   "cell_type": "code",
   "execution_count": 11,
   "id": "3363e976",
   "metadata": {
    "papermill": {
     "duration": 0.119746,
     "end_time": "2025-09-02T10:29:52.265866",
     "exception": false,
     "start_time": "2025-09-02T10:29:52.146120",
     "status": "completed"
    },
    "tags": []
   },
   "outputs": [
    {
     "data": {
      "text/plain": [
       "{'whiskers': [<matplotlib.lines.Line2D at 0x24cca1c2180>,\n",
       "  <matplotlib.lines.Line2D at 0x24cca1c2450>],\n",
       " 'caps': [<matplotlib.lines.Line2D at 0x24cca0ff230>,\n",
       "  <matplotlib.lines.Line2D at 0x24cca1c27e0>],\n",
       " 'boxes': [<matplotlib.lines.Line2D at 0x24cca1c1f40>],\n",
       " 'medians': [<matplotlib.lines.Line2D at 0x24cca1c2ab0>],\n",
       " 'fliers': [<matplotlib.lines.Line2D at 0x24cca1c2cc0>],\n",
       " 'means': []}"
      ]
     },
     "execution_count": 11,
     "metadata": {},
     "output_type": "execute_result"
    },
    {
     "data": {
      "image/png": "[encoded data removed]",
      "text/plain": [
       "<Figure size 640x480 with 1 Axes>"
      ]
     },
     "metadata": {},
     "output_type": "display_data"
    }
   ],
   "source": [
    "plt.boxplot(Data_Frame[\"MathScore\"])"
   ]
  },
  {
   "cell_type": "code",
   "execution_count": 12,
   "id": "a0f388a1",
   "metadata": {
    "papermill": {
     "duration": 0.140816,
     "end_time": "2025-09-02T10:29:52.416085",
     "exception": false,
     "start_time": "2025-09-02T10:29:52.275269",
     "status": "completed"
    },
    "tags": []
   },
   "outputs": [
    {
     "data": {
      "text/plain": [
       "{'whiskers': [<matplotlib.lines.Line2D at 0x24cca203cb0>,\n",
       "  <matplotlib.lines.Line2D at 0x24cca203fb0>],\n",
       " 'caps': [<matplotlib.lines.Line2D at 0x24cca9342f0>,\n",
       "  <matplotlib.lines.Line2D at 0x24cca9345c0>],\n",
       " 'boxes': [<matplotlib.lines.Line2D at 0x24cca203a40>],\n",
       " 'medians': [<matplotlib.lines.Line2D at 0x24cca9348c0>],\n",
       " 'fliers': [<matplotlib.lines.Line2D at 0x24cca934b60>],\n",
       " 'means': []}"
      ]
     },
     "execution_count": 12,
     "metadata": {},
     "output_type": "execute_result"
    },
    {
     "data": {
      "image/png": "[encoded data removed]",
      "text/plain": [
       "<Figure size 640x480 with 1 Axes>"
      ]
     },
     "metadata": {},
     "output_type": "display_data"
    }
   ],
   "source": [
    "Q1_Value = Data_Frame[\"MathScore\"].quantile(0.25)\n",
    "Q3_Value = Data_Frame[\"MathScore\"].quantile(0.75)\n",
    "IQR_Value = Q3_Value - Q1_Value\n",
    "Lower_Bound = Q1_Value - (1.5 * IQR_Value)\n",
    "Upper_Bound = Q3_Value + (1.5 * IQR_Value)\n",
    "Out_Liers = Data_Frame[(Data_Frame[\"MathScore\"] < Lower_Bound) | (Data_Frame[\"MathScore\"] > Upper_Bound)]\n",
    "Data_Frame = Data_Frame[~((Data_Frame[\"MathScore\"] < Lower_Bound) | (Data_Frame[\"MathScore\"] > Upper_Bound))]\n",
    "plt.boxplot(Data_Frame[\"MathScore\"])"
   ]
  },
  {
   "cell_type": "code",
   "execution_count": 13,
   "id": "9cf6568b",
   "metadata": {
    "papermill": {
     "duration": 0.117627,
     "end_time": "2025-09-02T10:29:52.541389",
     "exception": false,
     "start_time": "2025-09-02T10:29:52.423762",
     "status": "completed"
    },
    "tags": []
   },
   "outputs": [
    {
     "data": {
      "text/plain": [
       "{'whiskers': [<matplotlib.lines.Line2D at 0x24cca9984a0>,\n",
       "  <matplotlib.lines.Line2D at 0x24cca9732c0>],\n",
       " 'caps': [<matplotlib.lines.Line2D at 0x24cca9988c0>,\n",
       "  <matplotlib.lines.Line2D at 0x24cca998b90>],\n",
       " 'boxes': [<matplotlib.lines.Line2D at 0x24cca957dd0>],\n",
       " 'medians': [<matplotlib.lines.Line2D at 0x24cca998e00>],\n",
       " 'fliers': [<matplotlib.lines.Line2D at 0x24cca9990d0>],\n",
       " 'means': []}"
      ]
     },
     "execution_count": 13,
     "metadata": {},
     "output_type": "execute_result"
    },
    {
     "data": {
      "image/png": "[encoded data removed]",
      "text/plain": [
       "<Figure size 640x480 with 1 Axes>"
      ]
     },
     "metadata": {},
     "output_type": "display_data"
    }
   ],
   "source": [
    "plt.boxplot(Data_Frame[\"ReadingScore\"])"
   ]
  },
  {
   "cell_type": "code",
   "execution_count": 14,
   "id": "7b3abf94",
   "metadata": {
    "papermill": {
     "duration": 0.14119,
     "end_time": "2025-09-02T10:29:52.691003",
     "exception": false,
     "start_time": "2025-09-02T10:29:52.549813",
     "status": "completed"
    },
    "tags": []
   },
   "outputs": [
    {
     "data": {
      "text/plain": [
       "{'whiskers': [<matplotlib.lines.Line2D at 0x24cca9e5bb0>,\n",
       "  <matplotlib.lines.Line2D at 0x24cca180170>],\n",
       " 'caps': [<matplotlib.lines.Line2D at 0x24cca181670>,\n",
       "  <matplotlib.lines.Line2D at 0x24cc9d1d4f0>],\n",
       " 'boxes': [<matplotlib.lines.Line2D at 0x24cca9e59a0>],\n",
       " 'medians': [<matplotlib.lines.Line2D at 0x24cca200440>],\n",
       " 'fliers': [<matplotlib.lines.Line2D at 0x24cca1ec050>],\n",
       " 'means': []}"
      ]
     },
     "execution_count": 14,
     "metadata": {},
     "output_type": "execute_result"
    },
    {
     "data": {
      "image/png": "[encoded data removed]",
      "text/plain": [
       "<Figure size 640x480 with 1 Axes>"
      ]
     },
     "metadata": {},
     "output_type": "display_data"
    }
   ],
   "source": [
    "Q1_Value = Data_Frame[\"ReadingScore\"].quantile(0.25)\n",
    "Q3_Value = Data_Frame[\"ReadingScore\"].quantile(0.75)\n",
    "IQR_Value = Q3_Value - Q1_Value\n",
    "Lower_Bound = Q1_Value - (1.5 * IQR_Value)\n",
    "Upper_Bound = Q3_Value + (1.5 * IQR_Value)\n",
    "Out_Liers = Data_Frame[(Data_Frame[\"ReadingScore\"] < Lower_Bound) | (Data_Frame[\"ReadingScore\"] > Upper_Bound)]\n",
    "Data_Frame = Data_Frame[~((Data_Frame[\"ReadingScore\"] < Lower_Bound) | (Data_Frame[\"ReadingScore\"] > Upper_Bound))]\n",
    "plt.boxplot(Data_Frame[\"ReadingScore\"])"
   ]
  },
  {
   "cell_type": "code",
   "execution_count": 15,
   "id": "cd112692",
   "metadata": {
    "papermill": {
     "duration": 0.135422,
     "end_time": "2025-09-02T10:29:52.834987",
     "exception": false,
     "start_time": "2025-09-02T10:29:52.699565",
     "status": "completed"
    },
    "tags": []
   },
   "outputs": [
    {
     "data": {
      "text/plain": [
       "{'whiskers': [<matplotlib.lines.Line2D at 0x24cc9e66db0>,\n",
       "  <matplotlib.lines.Line2D at 0x24cc9e67020>],\n",
       " 'caps': [<matplotlib.lines.Line2D at 0x24cc9e672f0>,\n",
       "  <matplotlib.lines.Line2D at 0x24cc9e675c0>],\n",
       " 'boxes': [<matplotlib.lines.Line2D at 0x24cc9e66ae0>],\n",
       " 'medians': [<matplotlib.lines.Line2D at 0x24cc9e678c0>],\n",
       " 'fliers': [<matplotlib.lines.Line2D at 0x24cc9e67b00>],\n",
       " 'means': []}"
      ]
     },
     "execution_count": 15,
     "metadata": {},
     "output_type": "execute_result"
    },
    {
     "data": {
      "image/png": "[encoded data removed]",
      "text/plain": [
       "<Figure size 640x480 with 1 Axes>"
      ]
     },
     "metadata": {},
     "output_type": "display_data"
    }
   ],
   "source": [
    "plt.boxplot(Data_Frame[\"WritingScore\"])"
   ]
  },
  {
   "cell_type": "code",
   "execution_count": 16,
   "id": "57d32d3b",
   "metadata": {
    "papermill": {
     "duration": 0.138698,
     "end_time": "2025-09-02T10:29:52.982163",
     "exception": false,
     "start_time": "2025-09-02T10:29:52.843465",
     "status": "completed"
    },
    "tags": []
   },
   "outputs": [
    {
     "data": {
      "text/plain": [
       "{'whiskers': [<matplotlib.lines.Line2D at 0x24cc9ed6600>,\n",
       "  <matplotlib.lines.Line2D at 0x24cc9ed6900>],\n",
       " 'caps': [<matplotlib.lines.Line2D at 0x24cc9ed6b70>,\n",
       "  <matplotlib.lines.Line2D at 0x24cc9ed6e40>],\n",
       " 'boxes': [<matplotlib.lines.Line2D at 0x24cc9ed6300>],\n",
       " 'medians': [<matplotlib.lines.Line2D at 0x24cc9ed7140>],\n",
       " 'fliers': [<matplotlib.lines.Line2D at 0x24cc9ed73e0>],\n",
       " 'means': []}"
      ]
     },
     "execution_count": 16,
     "metadata": {},
     "output_type": "execute_result"
    },
    {
     "data": {
      "image/png": "[encoded data removed]",
      "text/plain": [
       "<Figure size 640x480 with 1 Axes>"
      ]
     },
     "metadata": {},
     "output_type": "display_data"
    }
   ],
   "source": [
    "Q1_Value = Data_Frame[\"WritingScore\"].quantile(0.25)\n",
    "Q3_Value = Data_Frame[\"WritingScore\"].quantile(0.75)\n",
    "IQR_Value = Q3_Value - Q1_Value\n",
    "Lower_Bound = Q1_Value - (1.5 * IQR_Value)\n",
    "Upper_Bound = Q3_Value + (1.5 * IQR_Value)\n",
    "Out_Liers = Data_Frame[(Data_Frame[\"WritingScore\"] < Lower_Bound) | (Data_Frame[\"WritingScore\"] > Upper_Bound)]\n",
    "Data_Frame = Data_Frame[~((Data_Frame[\"WritingScore\"] < Lower_Bound) | (Data_Frame[\"WritingScore\"] > Upper_Bound))]\n",
    "plt.boxplot(Data_Frame[\"WritingScore\"])"
   ]
  },
  {
   "cell_type": "code",
   "execution_count": 17,
   "id": "3d7dd014",
   "metadata": {
    "papermill": {
     "duration": 0.034113,
     "end_time": "2025-09-02T10:29:53.024912",
     "exception": false,
     "start_time": "2025-09-02T10:29:52.990799",
     "status": "completed"
    },
    "tags": []
   },
   "outputs": [
    {
     "name": "stdout",
     "output_type": "stream",
     "text": [
      "<class 'pandas.core.frame.DataFrame'>\n",
      "Index: 30185 entries, 0 to 30640\n",
      "Data columns (total 12 columns):\n",
      " #   Column               Non-Null Count  Dtype  \n",
      "---  ------               --------------  -----  \n",
      " 0   Gender               30185 non-null  object \n",
      " 1   EthnicGroup          30185 non-null  object \n",
      " 2   ParentEduc           30185 non-null  object \n",
      " 3   LunchType            30185 non-null  object \n",
      " 4   TestPrep             30185 non-null  object \n",
      " 5   ParentMaritalStatus  30185 non-null  object \n",
      " 6   PracticeSport        30185 non-null  object \n",
      " 7   NrSiblings           30185 non-null  float64\n",
      " 8   WklyStudyHours       30185 non-null  object \n",
      " 9   MathScore            30185 non-null  int64  \n",
      " 10  ReadingScore         30185 non-null  int64  \n",
      " 11  WritingScore         30185 non-null  int64  \n",
      "dtypes: float64(1), int64(3), object(8)\n",
      "memory usage: 3.0+ MB\n"
     ]
    }
   ],
   "source": [
    "Data_Frame.info()"
   ]
  },
  {
   "cell_type": "code",
   "execution_count": 18,
   "id": "d06b89cc",
   "metadata": {
    "papermill": {
     "duration": 0.262815,
     "end_time": "2025-09-02T10:29:53.296402",
     "exception": false,
     "start_time": "2025-09-02T10:29:53.033587",
     "status": "completed"
    },
    "tags": []
   },
   "outputs": [
    {
     "data": {
      "image/png": "[encoded data removed]",
      "text/plain": [
       "<Figure size 640x480 with 1 Axes>"
      ]
     },
     "metadata": {},
     "output_type": "display_data"
    }
   ],
   "source": [
    "Data_Frame.hist(column=('NrSiblings'), bins=20, edgecolor='black')\n",
    "plt.title('Box Plot of NrSiblings')\n",
    "plt.xlabel('Siblings Score Range')\n",
    "plt.ylabel('Frequences')\n",
    "plt.show()"
   ]
  },
  {
   "cell_type": "code",
   "execution_count": 19,
   "id": "1c002d35",
   "metadata": {
    "papermill": {
     "duration": 0.20852,
     "end_time": "2025-09-02T10:29:53.514881",
     "exception": false,
     "start_time": "2025-09-02T10:29:53.306361",
     "status": "completed"
    },
    "tags": []
   },
   "outputs": [
    {
     "data": {
      "image/png": "[encoded data removed]",
      "text/plain": [
       "<Figure size 640x480 with 1 Axes>"
      ]
     },
     "metadata": {},
     "output_type": "display_data"
    }
   ],
   "source": [
    "Data_Frame.hist(column=('MathScore'), bins=20, edgecolor='black')\n",
    "plt.title('Box Plot of MathScore')\n",
    "plt.xlabel('Math Score Range')\n",
    "plt.ylabel('Frequences')\n",
    "plt.show()"
   ]
  },
  {
   "cell_type": "code",
   "execution_count": 20,
   "id": "3361d88c",
   "metadata": {
    "papermill": {
     "duration": 0.215319,
     "end_time": "2025-09-02T10:29:53.740376",
     "exception": false,
     "start_time": "2025-09-02T10:29:53.525057",
     "status": "completed"
    },
    "tags": []
   },
   "outputs": [
    {
     "data": {
      "image/png": "[encoded data removed]",
      "text/plain": [
       "<Figure size 640x480 with 1 Axes>"
      ]
     },
     "metadata": {},
     "output_type": "display_data"
    }
   ],
   "source": [
    "Data_Frame.hist(column=('ReadingScore'), bins=20, edgecolor='black')\n",
    "plt.title('Box Plot of ReadingScore')\n",
    "plt.xlabel('Reading Score Range')\n",
    "plt.ylabel('Frequences')\n",
    "plt.show()"
   ]
  },
  {
   "cell_type": "code",
   "execution_count": 21,
   "id": "0e04710c",
   "metadata": {
    "papermill": {
     "duration": 0.205609,
     "end_time": "2025-09-02T10:29:53.956043",
     "exception": false,
     "start_time": "2025-09-02T10:29:53.750434",
     "status": "completed"
    },
    "tags": []
   },
   "outputs": [
    {
     "data": {
      "image/png": "[encoded data removed]",
      "text/plain": [
       "<Figure size 640x480 with 1 Axes>"
      ]
     },
     "metadata": {},
     "output_type": "display_data"
    }
   ],
   "source": [
    "Data_Frame.hist(column=('WritingScore'), bins=20, edgecolor='black')\n",
    "plt.title('Box Plot of WritingScore')\n",
    "plt.xlabel('Writing Score Range')\n",
    "plt.ylabel('Frequences')\n",
    "plt.show()"
   ]
  },
  {
   "cell_type": "code",
   "execution_count": 22,
   "id": "4fbefdbf",
   "metadata": {
    "papermill": {
     "duration": 0.059729,
     "end_time": "2025-09-02T10:29:54.026245",
     "exception": false,
     "start_time": "2025-09-02T10:29:53.966516",
     "status": "completed"
    },
    "tags": []
   },
   "outputs": [
    {
     "data": {
      "text/html": [
       "<div>\n",
       "<style scoped>\n",
       "    .dataframe tbody tr th:only-of-type {\n",
       "        vertical-align: middle;\n",
       "    }\n",
       "\n",
       "    .dataframe tbody tr th {\n",
       "        vertical-align: top;\n",
       "    }\n",
       "\n",
       "    .dataframe thead th {\n",
       "        text-align: right;\n",
       "    }\n",
       "</style>\n",
       "<table border=\"1\" class=\"dataframe\">\n",
       "  <thead>\n",
       "    <tr style=\"text-align: right;\">\n",
       "      <th></th>\n",
       "      <th>Gender</th>\n",
       "      <th>EthnicGroup</th>\n",
       "      <th>ParentEduc</th>\n",
       "      <th>LunchType</th>\n",
       "      <th>TestPrep</th>\n",
       "      <th>ParentMaritalStatus</th>\n",
       "      <th>PracticeSport</th>\n",
       "      <th>NrSiblings</th>\n",
       "      <th>WklyStudyHours</th>\n",
       "      <th>MathScore</th>\n",
       "      <th>ReadingScore</th>\n",
       "      <th>WritingScore</th>\n",
       "    </tr>\n",
       "  </thead>\n",
       "  <tbody>\n",
       "    <tr>\n",
       "      <th>30631</th>\n",
       "      <td>male</td>\n",
       "      <td>group E</td>\n",
       "      <td>some high school</td>\n",
       "      <td>standard</td>\n",
       "      <td>none</td>\n",
       "      <td>married</td>\n",
       "      <td>sometimes</td>\n",
       "      <td>3.0</td>\n",
       "      <td>&lt; 5</td>\n",
       "      <td>80</td>\n",
       "      <td>65</td>\n",
       "      <td>66</td>\n",
       "    </tr>\n",
       "    <tr>\n",
       "      <th>30632</th>\n",
       "      <td>female</td>\n",
       "      <td>group D</td>\n",
       "      <td>some college</td>\n",
       "      <td>standard</td>\n",
       "      <td>none</td>\n",
       "      <td>married</td>\n",
       "      <td>regularly</td>\n",
       "      <td>3.0</td>\n",
       "      <td>5 - 10</td>\n",
       "      <td>82</td>\n",
       "      <td>88</td>\n",
       "      <td>97</td>\n",
       "    </tr>\n",
       "    <tr>\n",
       "      <th>30633</th>\n",
       "      <td>female</td>\n",
       "      <td>group C</td>\n",
       "      <td>master's degree</td>\n",
       "      <td>standard</td>\n",
       "      <td>completed</td>\n",
       "      <td>married</td>\n",
       "      <td>never</td>\n",
       "      <td>2.0</td>\n",
       "      <td>5 - 10</td>\n",
       "      <td>84</td>\n",
       "      <td>99</td>\n",
       "      <td>99</td>\n",
       "    </tr>\n",
       "    <tr>\n",
       "      <th>30634</th>\n",
       "      <td>male</td>\n",
       "      <td>group A</td>\n",
       "      <td>associate's degree</td>\n",
       "      <td>free/reduced</td>\n",
       "      <td>completed</td>\n",
       "      <td>married</td>\n",
       "      <td>sometimes</td>\n",
       "      <td>2.0</td>\n",
       "      <td>5 - 10</td>\n",
       "      <td>65</td>\n",
       "      <td>60</td>\n",
       "      <td>60</td>\n",
       "    </tr>\n",
       "    <tr>\n",
       "      <th>30635</th>\n",
       "      <td>male</td>\n",
       "      <td>group C</td>\n",
       "      <td>some college</td>\n",
       "      <td>standard</td>\n",
       "      <td>none</td>\n",
       "      <td>married</td>\n",
       "      <td>regularly</td>\n",
       "      <td>2.0</td>\n",
       "      <td>5 - 10</td>\n",
       "      <td>58</td>\n",
       "      <td>53</td>\n",
       "      <td>49</td>\n",
       "    </tr>\n",
       "    <tr>\n",
       "      <th>30636</th>\n",
       "      <td>female</td>\n",
       "      <td>group D</td>\n",
       "      <td>high school</td>\n",
       "      <td>standard</td>\n",
       "      <td>none</td>\n",
       "      <td>single</td>\n",
       "      <td>sometimes</td>\n",
       "      <td>2.0</td>\n",
       "      <td>5 - 10</td>\n",
       "      <td>59</td>\n",
       "      <td>61</td>\n",
       "      <td>65</td>\n",
       "    </tr>\n",
       "    <tr>\n",
       "      <th>30637</th>\n",
       "      <td>male</td>\n",
       "      <td>group E</td>\n",
       "      <td>high school</td>\n",
       "      <td>standard</td>\n",
       "      <td>none</td>\n",
       "      <td>single</td>\n",
       "      <td>regularly</td>\n",
       "      <td>1.0</td>\n",
       "      <td>5 - 10</td>\n",
       "      <td>58</td>\n",
       "      <td>53</td>\n",
       "      <td>51</td>\n",
       "    </tr>\n",
       "    <tr>\n",
       "      <th>30638</th>\n",
       "      <td>female</td>\n",
       "      <td>group C</td>\n",
       "      <td>high school</td>\n",
       "      <td>free/reduced</td>\n",
       "      <td>completed</td>\n",
       "      <td>married</td>\n",
       "      <td>sometimes</td>\n",
       "      <td>1.0</td>\n",
       "      <td>5 - 10</td>\n",
       "      <td>61</td>\n",
       "      <td>70</td>\n",
       "      <td>67</td>\n",
       "    </tr>\n",
       "    <tr>\n",
       "      <th>30639</th>\n",
       "      <td>female</td>\n",
       "      <td>group D</td>\n",
       "      <td>associate's degree</td>\n",
       "      <td>standard</td>\n",
       "      <td>completed</td>\n",
       "      <td>married</td>\n",
       "      <td>regularly</td>\n",
       "      <td>3.0</td>\n",
       "      <td>5 - 10</td>\n",
       "      <td>82</td>\n",
       "      <td>90</td>\n",
       "      <td>93</td>\n",
       "    </tr>\n",
       "    <tr>\n",
       "      <th>30640</th>\n",
       "      <td>male</td>\n",
       "      <td>group B</td>\n",
       "      <td>some college</td>\n",
       "      <td>standard</td>\n",
       "      <td>none</td>\n",
       "      <td>married</td>\n",
       "      <td>never</td>\n",
       "      <td>1.0</td>\n",
       "      <td>5 - 10</td>\n",
       "      <td>64</td>\n",
       "      <td>60</td>\n",
       "      <td>58</td>\n",
       "    </tr>\n",
       "  </tbody>\n",
       "</table>\n",
       "</div>"
      ],
      "text/plain": [
       "       Gender EthnicGroup          ParentEduc     LunchType   TestPrep  \\\n",
       "30631    male     group E    some high school      standard       none   \n",
       "30632  female     group D        some college      standard       none   \n",
       "30633  female     group C     master's degree      standard  completed   \n",
       "30634    male     group A  associate's degree  free/reduced  completed   \n",
       "30635    male     group C        some college      standard       none   \n",
       "30636  female     group D         high school      standard       none   \n",
       "30637    male     group E         high school      standard       none   \n",
       "30638  female     group C         high school  free/reduced  completed   \n",
       "30639  female     group D  associate's degree      standard  completed   \n",
       "30640    male     group B        some college      standard       none   \n",
       "\n",
       "      ParentMaritalStatus PracticeSport  NrSiblings WklyStudyHours  MathScore  \\\n",
       "30631             married     sometimes         3.0            < 5         80   \n",
       "30632             married     regularly         3.0         5 - 10         82   \n",
       "30633             married         never         2.0         5 - 10         84   \n",
       "30634             married     sometimes         2.0         5 - 10         65   \n",
       "30635             married     regularly         2.0         5 - 10         58   \n",
       "30636              single     sometimes         2.0         5 - 10         59   \n",
       "30637              single     regularly         1.0         5 - 10         58   \n",
       "30638             married     sometimes         1.0         5 - 10         61   \n",
       "30639             married     regularly         3.0         5 - 10         82   \n",
       "30640             married         never         1.0         5 - 10         64   \n",
       "\n",
       "       ReadingScore  WritingScore  \n",
       "30631            65            66  \n",
       "30632            88            97  \n",
       "30633            99            99  \n",
       "30634            60            60  \n",
       "30635            53            49  \n",
       "30636            61            65  \n",
       "30637            53            51  \n",
       "30638            70            67  \n",
       "30639            90            93  \n",
       "30640            60            58  "
      ]
     },
     "execution_count": 22,
     "metadata": {},
     "output_type": "execute_result"
    }
   ],
   "source": [
    "Data_Frame = Data_Frame.drop_duplicates()\n",
    "Data_Frame = Data_Frame.dropna()\n",
    "Data_Frame.tail(10)"
   ]
  },
  {
   "cell_type": "code",
   "execution_count": 23,
   "id": "ebb3f9bf",
   "metadata": {
    "papermill": {
     "duration": 0.01871,
     "end_time": "2025-09-02T10:29:54.055662",
     "exception": false,
     "start_time": "2025-09-02T10:29:54.036952",
     "status": "completed"
    },
    "tags": []
   },
   "outputs": [
    {
     "data": {
      "text/plain": [
       "Gender                  object\n",
       "EthnicGroup             object\n",
       "ParentEduc              object\n",
       "LunchType               object\n",
       "TestPrep                object\n",
       "ParentMaritalStatus     object\n",
       "PracticeSport           object\n",
       "NrSiblings             float64\n",
       "WklyStudyHours          object\n",
       "MathScore                int64\n",
       "ReadingScore             int64\n",
       "WritingScore             int64\n",
       "dtype: object"
      ]
     },
     "execution_count": 23,
     "metadata": {},
     "output_type": "execute_result"
    }
   ],
   "source": [
    "Data_Frame.dtypes"
   ]
  },
  {
   "cell_type": "code",
   "execution_count": 24,
   "id": "c0d72d06",
   "metadata": {
    "papermill": {
     "duration": 0.066281,
     "end_time": "2025-09-02T10:29:54.132583",
     "exception": false,
     "start_time": "2025-09-02T10:29:54.066302",
     "status": "completed"
    },
    "tags": []
   },
   "outputs": [
    {
     "data": {
      "text/plain": [
       "Gender                   int32\n",
       "EthnicGroup              int32\n",
       "ParentEduc               int32\n",
       "LunchType                int32\n",
       "TestPrep                 int32\n",
       "ParentMaritalStatus      int32\n",
       "PracticeSport            int32\n",
       "NrSiblings             float64\n",
       "WklyStudyHours           int32\n",
       "MathScore                int64\n",
       "ReadingScore             int64\n",
       "WritingScore             int64\n",
       "dtype: object"
      ]
     },
     "execution_count": 24,
     "metadata": {},
     "output_type": "execute_result"
    }
   ],
   "source": [
    "Data_Frame[\"Gender\"] = LabelEncoder().fit_transform(Data_Frame[\"Gender\"])\n",
    "Data_Frame[\"EthnicGroup\"] = LabelEncoder().fit_transform(Data_Frame[\"EthnicGroup\"])\n",
    "Data_Frame[\"ParentEduc\"] = LabelEncoder().fit_transform(Data_Frame[\"ParentEduc\"])\n",
    "Data_Frame[\"LunchType\"] = LabelEncoder().fit_transform(Data_Frame[\"LunchType\"])\n",
    "Data_Frame[\"TestPrep\"] = LabelEncoder().fit_transform(Data_Frame[\"TestPrep\"])\n",
    "Data_Frame[\"ParentMaritalStatus\"] = LabelEncoder().fit_transform(Data_Frame[\"ParentMaritalStatus\"])\n",
    "Data_Frame[\"PracticeSport\"] = LabelEncoder().fit_transform(Data_Frame[\"PracticeSport\"])\n",
    "Data_Frame[\"WklyStudyHours\"] = LabelEncoder().fit_transform(Data_Frame[\"WklyStudyHours\"])\n",
    "Data_Frame.dtypes"
   ]
  },
  {
   "cell_type": "code",
   "execution_count": 25,
   "id": "21edcd26-39a6-46e3-8547-9b21c9949451",
   "metadata": {},
   "outputs": [],
   "source": [
    "Data_Frame.to_csv(\"Expanded_Data_With_More_Features_By_Mohammed_Khaled_Shehata_Hussain.csv\",index=False)"
   ]
  },
  {
   "cell_type": "code",
   "execution_count": 26,
   "id": "c9ee3f91",
   "metadata": {
    "papermill": {
     "duration": 0.100365,
     "end_time": "2025-09-02T10:29:54.243923",
     "exception": false,
     "start_time": "2025-09-02T10:29:54.143558",
     "status": "completed"
    },
    "tags": []
   },
   "outputs": [],
   "source": [
    "X1 = Data_Frame.drop([\"MathScore\"] , axis=1)\n",
    "Y1 = Data_Frame[\"MathScore\"]\n",
    "X_Train1,X_Test1,Y_Train1,Y_Test1 = train_test_split(X1 , Y1 , train_size = 0.8 , random_state = 40 , stratify = Y1 , shuffle = True)"
   ]
  },
  {
   "cell_type": "code",
   "execution_count": 27,
   "id": "c0bd6071",
   "metadata": {
    "papermill": {
     "duration": 0.098205,
     "end_time": "2025-09-02T10:29:54.353187",
     "exception": false,
     "start_time": "2025-09-02T10:29:54.254982",
     "status": "completed"
    },
    "tags": []
   },
   "outputs": [
    {
     "name": "stdout",
     "output_type": "stream",
     "text": [
      "The Score Of Training = 0.8581507544219014\n",
      "The Score Of Testing = 0.8598797378220497\n"
     ]
    }
   ],
   "source": [
    "Model1 = LinearRegression()\n",
    "Model1.fit(X_Train1,Y_Train1)\n",
    "Y_Pred1 = Model1.predict(X_Test1)\n",
    "print(\"The Score Of Training =\",Model1.score(X_Train1,Y_Train1))\n",
    "print(\"The Score Of Testing =\",Model1.score(X_Test1,Y_Test1))"
   ]
  },
  {
   "cell_type": "code",
   "execution_count": 28,
   "id": "5c868432",
   "metadata": {
    "papermill": {
     "duration": 0.019914,
     "end_time": "2025-09-02T10:29:54.384260",
     "exception": false,
     "start_time": "2025-09-02T10:29:54.364346",
     "status": "completed"
    },
    "tags": []
   },
   "outputs": [
    {
     "name": "stdout",
     "output_type": "stream",
     "text": [
      "The Mean Square Error =  31.77945726389982\n",
      "The Mean Abselute Error =  4.53117242094353\n"
     ]
    }
   ],
   "source": [
    "Mse1 = mean_squared_error(Y_Pred1,Y_Test1)\n",
    "Mae1 = mean_absolute_error(Y_Pred1,Y_Test1)\n",
    "print(\"The Mean Square Error = \",Mse1)\n",
    "print(\"The Mean Abselute Error = \",Mae1)"
   ]
  },
  {
   "cell_type": "code",
   "execution_count": 29,
   "id": "e04a8704",
   "metadata": {
    "papermill": {
     "duration": 0.04023,
     "end_time": "2025-09-02T10:29:54.435397",
     "exception": false,
     "start_time": "2025-09-02T10:29:54.395167",
     "status": "completed"
    },
    "tags": []
   },
   "outputs": [],
   "source": [
    "X2 = Data_Frame.drop([\"ReadingScore\"] , axis=1)\n",
    "Y2 = Data_Frame[\"ReadingScore\"]\n",
    "X_Train2,X_Test2,Y_Train2,Y_Test2 = train_test_split(X2 , Y2 , train_size = 0.8 , random_state = 40 , stratify = Y2 , shuffle = True)"
   ]
  },
  {
   "cell_type": "code",
   "execution_count": 30,
   "id": "34f20d33",
   "metadata": {
    "papermill": {
     "duration": 0.045741,
     "end_time": "2025-09-02T10:29:54.492869",
     "exception": false,
     "start_time": "2025-09-02T10:29:54.447128",
     "status": "completed"
    },
    "tags": []
   },
   "outputs": [
    {
     "name": "stdout",
     "output_type": "stream",
     "text": [
      "The Score Of Training = 0.9160616629897681\n",
      "The Score Of Testing = 0.914711735999606\n"
     ]
    }
   ],
   "source": [
    "Model2 = LinearRegression()\n",
    "Model2.fit(X_Train2,Y_Train2)\n",
    "Y_Pred2 = Model2.predict(X_Test2)\n",
    "print(\"The Score Of Training =\",Model2.score(X_Train2,Y_Train2))\n",
    "print(\"The Score Of Testing =\",Model2.score(X_Test2,Y_Test2))"
   ]
  },
  {
   "cell_type": "code",
   "execution_count": 31,
   "id": "407b0740",
   "metadata": {
    "papermill": {
     "duration": 0.021064,
     "end_time": "2025-09-02T10:29:54.525570",
     "exception": false,
     "start_time": "2025-09-02T10:29:54.504506",
     "status": "completed"
    },
    "tags": []
   },
   "outputs": [
    {
     "name": "stdout",
     "output_type": "stream",
     "text": [
      "The Mean Square Error =  17.84303487966987\n",
      "The Mean Abselute Error =  3.3915532314685386\n"
     ]
    }
   ],
   "source": [
    "Mse2 = mean_squared_error(Y_Pred2,Y_Test2)\n",
    "Mae2 = mean_absolute_error(Y_Pred2,Y_Test2)\n",
    "print(\"The Mean Square Error = \",Mse2)\n",
    "print(\"The Mean Abselute Error = \",Mae2)"
   ]
  },
  {
   "cell_type": "code",
   "execution_count": 32,
   "id": "c8e97984",
   "metadata": {
    "papermill": {
     "duration": 0.039897,
     "end_time": "2025-09-02T10:29:54.576721",
     "exception": false,
     "start_time": "2025-09-02T10:29:54.536824",
     "status": "completed"
    },
    "tags": []
   },
   "outputs": [],
   "source": [
    "X3 = Data_Frame.drop([\"WritingScore\"] , axis=1)\n",
    "Y3 = Data_Frame[\"WritingScore\"]\n",
    "X_Train3,X_Test3,Y_Train3,Y_Test3 = train_test_split(X3 , Y3 , train_size = 0.8 , random_state = 40 , stratify = Y3 , shuffle = True)"
   ]
  },
  {
   "cell_type": "code",
   "execution_count": 33,
   "id": "632eea55",
   "metadata": {
    "papermill": {
     "duration": 0.042502,
     "end_time": "2025-09-02T10:29:54.630929",
     "exception": false,
     "start_time": "2025-09-02T10:29:54.588427",
     "status": "completed"
    },
    "tags": []
   },
   "outputs": [
    {
     "name": "stdout",
     "output_type": "stream",
     "text": [
      "The Score Of Training = 0.9340945810586333\n",
      "The Score Of Testing = 0.9352077663083609\n"
     ]
    }
   ],
   "source": [
    "Model3 = LinearRegression()\n",
    "Model3.fit(X_Train3,Y_Train3)\n",
    "Y_Pred3 = Model3.predict(X_Test3)\n",
    "print(\"The Score Of Training =\",Model3.score(X_Train3,Y_Train3))\n",
    "print(\"The Score Of Testing =\",Model3.score(X_Test3,Y_Test3))"
   ]
  },
  {
   "cell_type": "code",
   "execution_count": 34,
   "id": "ef15a29a",
   "metadata": {
    "papermill": {
     "duration": 0.020222,
     "end_time": "2025-09-02T10:29:54.662625",
     "exception": false,
     "start_time": "2025-09-02T10:29:54.642403",
     "status": "completed"
    },
    "tags": []
   },
   "outputs": [
    {
     "name": "stdout",
     "output_type": "stream",
     "text": [
      "The Mean Square Error =  14.821452513278578\n",
      "The Mean Abselute Error =  3.060805570866094\n"
     ]
    }
   ],
   "source": [
    "Mse3 = mean_squared_error(Y_Pred3,Y_Test3)\n",
    "Mae3 = mean_absolute_error(Y_Pred3,Y_Test3)\n",
    "print(\"The Mean Square Error = \",Mse3)\n",
    "print(\"The Mean Abselute Error = \",Mae3)"
   ]
  },
  {
   "cell_type": "code",
   "execution_count": 35,
   "id": "69a6da3b-75d9-47f7-8c73-ae8d03fbeb26",
   "metadata": {},
   "outputs": [],
   "source": [
    "import pickle\n",
    "with open(\"Model_1_of_MathScore.pkl\" , \"wb\") as file :\n",
    "    pickle.dump(Model1 , file)"
   ]
  },
  {
   "cell_type": "code",
   "execution_count": 36,
   "id": "e95e68d2-b7f5-4edd-ab8a-fb0db2a2645b",
   "metadata": {},
   "outputs": [],
   "source": [
    "import pickle\n",
    "with open(\"Model_2_of_ReadingScore.pkl\" , \"wb\") as file :\n",
    "    pickle.dump(Model2 , file)"
   ]
  },
  {
   "cell_type": "code",
   "execution_count": 37,
   "id": "459cd64c-fba4-4681-a76e-d75567288ddc",
   "metadata": {},
   "outputs": [],
   "source": [
    "import pickle\n",
    "with open(\"Model_3_of_WritingScore.pkl\" , \"wb\") as file :\n",
    "    pickle.dump(Model3 , file)"
   ]
  },
  {
   "cell_type": "code",
   "execution_count": 38,
   "id": "6e5120cb-e1a9-41af-900e-c00cd7a84ac3",
   "metadata": {},
   "outputs": [
    {
     "name": "stdout",
     "output_type": "stream",
     "text": [
      "Has Done\n"
     ]
    }
   ],
   "source": [
    "print(\"Has Done\")"
   ]
  }
 ],
 "metadata": {
  "kaggle": {
   "accelerator": "none",
   "dataSources": [
    {
     "datasetId": 3128523,
     "sourceId": 5399169,
     "sourceType": "datasetVersion"
    }
   ],
   "dockerImageVersionId": 31089,
   "isGpuEnabled": false,
   "isInternetEnabled": true,
   "language": "python",
   "sourceType": "notebook"
  },
  "kernelspec": {
   "display_name": "Python 3 (ipykernel)",
   "language": "python",
   "name": "python3"
  },
  "language_info": {
   "codemirror_mode": {
    "name": "ipython",
    "version": 3
   },
   "file_extension": ".py",
   "mimetype": "text/x-python",
   "name": "python",
   "nbconvert_exporter": "python",
   "pygments_lexer": "ipython3",
   "version": "3.12.7"
  },
  "papermill": {
   "default_parameters": {},
   "duration": 12.635365,
   "end_time": "2025-09-02T10:29:55.294833",
   "environment_variables": {},
   "exception": null,
   "input_path": "__notebook__.ipynb",
   "output_path": "__notebook__.ipynb",
   "parameters": {},
   "start_time": "2025-09-02T10:29:42.659468",
   "version": "2.6.0"
  }
 },
 "nbformat": 4,
 "nbformat_minor": 5
}
